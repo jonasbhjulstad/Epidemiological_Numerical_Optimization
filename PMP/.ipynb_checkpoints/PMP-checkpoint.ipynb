{
 "cells": [
  {
   "cell_type": "code",
   "execution_count": 7,
   "metadata": {},
   "outputs": [],
   "source": [
    "from casadi import *\n",
    "import matplotlib.pyplot as plt\n",
    "import numpy as np\n",
    "import numpy.linalg as la\n",
    "from tqdm import tqdm\n",
    "\n",
    "import matplotlib.pyplot as plt\n",
    "from mpl_toolkits.mplot3d import Axes3D\n",
    "from Parameters.Parameters_Isolation import *\n",
    "\n"
   ]
  },
  {
   "cell_type": "code",
   "execution_count": 8,
   "metadata": {},
   "outputs": [],
   "source": [
    "nx = 3\n",
    "nu = 1\n",
    "\n",
    "# xdot = vertcat(-u*x[0]*x[1]/N_pop, u*x[0]*x[1]/N_pop - alpha*x[1])#, alpha*x[1])[:nx]\n",
    "# hamiltonian = x[1]**2 - Wu*u**2 + (lbd[1]-lbd[0])*x[0]*x[1]*u/N_pop + (-lbd[1])*alpha*x[1]\n",
    "# hamiltonian = x[1]**2 + Wu*u**2 -lbd[0]*x[0]# + lbd[2]*x[0])\n"
   ]
  },
  {
   "cell_type": "code",
   "execution_count": 8,
   "metadata": {
    "pycharm": {
     "name": "#%%\n"
    }
   },
   "outputs": [],
   "source": []
  },
  {
   "cell_type": "code",
   "execution_count": 9,
   "metadata": {},
   "outputs": [],
   "source": [
    "def RK4_Integrator(f, X, U, DT):\n",
    "       print(U.shape)\n",
    "       k1 = f(X, U)\n",
    "       k2 = f(X + DT/2 * k1, U)\n",
    "       k3 = f(X + DT/2 * k2, U)\n",
    "       k4 = f(X + DT * k3, U)\n",
    "       X=X+DT/6*(k1 +2*k2 +2*k3 +k4)\n",
    "       return X"
   ]
  },
  {
   "cell_type": "code",
   "execution_count": 10,
   "metadata": {},
   "outputs": [
    {
     "name": "stdout",
     "output_type": "stream",
     "text": [
      "(1, 1)\n",
      "(1, 1)\n",
      "(1, 1)\n",
      "(1, 1)\n",
      "(1, 1)\n",
      "(1, 1)\n",
      "(1, 1)\n",
      "(1, 1)\n",
      "(1, 1)\n",
      "(1, 1)\n",
      "(1, 1)\n",
      "(1, 1)\n",
      "(1, 1)\n",
      "(1, 1)\n",
      "(1, 1)\n",
      "(1, 1)\n",
      "(1, 1)\n",
      "(1, 1)\n",
      "(1, 1)\n",
      "(1, 1)\n",
      "(1, 1)\n",
      "(1, 1)\n",
      "(1, 1)\n",
      "(1, 1)\n",
      "(1, 1)\n",
      "(1, 1)\n",
      "(1, 1)\n",
      "(1, 1)\n",
      "(1, 1)\n",
      "(1, 1)\n",
      "(1, 1)\n",
      "(1, 1)\n",
      "(1, 1)\n",
      "(1, 1)\n",
      "(1, 1)\n",
      "(1, 1)\n",
      "(1, 1)\n",
      "(1, 1)\n",
      "(1, 1)\n",
      "(1, 1)\n",
      "(1, 1)\n",
      "(1, 1)\n",
      "(1, 1)\n",
      "(1, 1)\n",
      "(1, 1)\n",
      "(1, 1)\n",
      "(1, 1)\n",
      "(1, 1)\n",
      "(1, 1)\n",
      "(1, 1)\n"
     ]
    }
   ],
   "source": [
    "\n",
    "x0 = [N_pop-I0, I0, 0]\n",
    "M = 50\n",
    "\n",
    "u = MX.sym('u')\n",
    "x0 = MX.sym('x0', nx)\n",
    "lbd0 = MX.sym('lbd0', nx)\n",
    "s0 = vertcat(x0, lbd0)\n",
    "sk = s0\n",
    "s_plot = [s0]\n",
    "lbd_plot = [lbd0]\n",
    "x_plot = [x0]\n",
    "for i in range(M):\n",
    "    sk = RK4_Integrator(F, sk, u, DT)\n",
    "    lbd_plot.append(sk[0:nx])\n",
    "\n",
    "s_dot = Function('s_dot', [s0, u], [sk])\n",
    "f = Function('f_lbd', [x0, lbd0, u], [sk[nx:], sk[nx:]])\n",
    "\n",
    "\n"
   ]
  },
  {
   "cell_type": "code",
   "execution_count": 11,
   "metadata": {},
   "outputs": [],
   "source": [
    "# \"Lift\" initial conditions\n",
    "X0 = MX.sym('x0', nx)\n",
    "lbd_0 = MX.sym('lbd_0', nx)\n",
    "x0 = [N_pop-I0, I0, 0][:nx]\n",
    "Sk = vertcat(X0, lbd_0)\n",
    "\n",
    "w = [Sk]\n",
    "lbw = [x0]\n",
    "ubw = [x0]\n",
    "w0 = [x0]\n",
    "x_min = [0]*nx\n",
    "x_max = [N_pop]*nx\n",
    "lbd_min = [0]*nx\n",
    "lbd_max = [100]*nx\n",
    "s_min = x_min + lbd_min\n",
    "s_max = x_max + lbd_max\n",
    "Q = []\n",
    "g = [X0 - x0]\n",
    "lbg = [0]*nx\n",
    "ubg = [0]*nx\n",
    "U = []\n",
    "lbu = []\n",
    "ubu = []\n",
    "U0 = []\n",
    "u0 = u_max\n",
    "traj_initial = True\n",
    "# Formulate the NLP\n",
    "for k in range(N):\n",
    "    # New NLP variable for the control\n",
    "    Uk = MX.sym('U_' + str(k))\n",
    "    U   += [Uk]\n",
    "    lbu += [u_min]\n",
    "    ubu += [u_max]\n",
    "    U0  += [u0]\n",
    "\n",
    "    # Integrate till the end of the interval\n",
    "    Sk_end = s_dot(Sk, Uk)\n",
    "    \n",
    "    # New NLP variable for state at end of interval\n",
    "    if k < (N-1):\n",
    "        Sk = MX.sym('S_' + str(k+1), 2*nx)\n",
    "        w   += [Sk]\n",
    "        lbw += s_min\n",
    "        ubw += s_max\n",
    "    # Add equality constraint\n",
    "        g   += [Sk_end-Sk]\n",
    "        lbg += [0]*2*nx\n",
    "        ubg += [0]*2*nx\n",
    "\n",
    "\n",
    "g+= [Sk[nx:]]\n",
    "\n",
    "g = vertcat(*g)\n",
    "w = vertcat(*w)\n",
    "U = vertcat(*U)\n"
   ]
  },
  {
   "cell_type": "code",
   "execution_count": 12,
   "metadata": {},
   "outputs": [
    {
     "data": {
      "text/plain": [
       "<matplotlib.image.AxesImage at 0x1c5493f9700>"
      ]
     },
     "execution_count": 12,
     "metadata": {},
     "output_type": "execute_result"
    },
    {
     "data": {
      "image/png": "[encoded data removed]",
      "text/plain": [
       "<Figure size 432x288 with 1 Axes>"
      ]
     },
     "metadata": {
      "needs_background": "light"
     },
     "output_type": "display_data"
    }
   ],
   "source": [
    "plt.spy(jacobian(g, w).sparsity())"
   ]
  },
  {
   "cell_type": "code",
   "execution_count": 13,
   "metadata": {},
   "outputs": [],
   "source": [
    "from scipy.optimize import fsolve\n",
    "uk = np.random.uniform(u_min, u_max, N)\n",
    "f_r = Function('f_r', [w, U], [g])\n",
    "grad_r = Function('grad_r', [w, U], [jacobian(f_r(w, U), w)])\n",
    "\n",
    "opts = {}\n",
    "opts['error_on_fail'] = False\n",
    "\n",
    "G = rootfinder('G', 'newton', f_r, opts)\n"
   ]
  },
  {
   "cell_type": "code",
   "execution_count": 14,
   "metadata": {
    "pycharm": {
     "name": "#%%\n"
    }
   },
   "outputs": [],
   "source": [
    "# w0 = np.random.uniform(1,2,w.shape)\n",
    "# u0 = np.random.uniform(1,5,U.shape)\n",
    "# a = grad_r(w0, u0)\n",
    "#\n",
    "# la.eig(a)[0] == 0"
   ]
  },
  {
   "cell_type": "code",
   "execution_count": 15,
   "metadata": {},
   "outputs": [],
   "source": [
    "def Hamiltonian(x, lbd, u):\n",
    "    return x[1]**2 - Wu*u**2 + (lbd[1]-lbd[0])*x[0]*x[1]*u/N_pop + (lbd[1])*alpha*x[1]\n",
    "\n",
    "def u_sol(x, lbd):\n",
    "    u_opt = (lbd[1] - lbd[0])*x[0]*x[1]/(2*Wu)\n",
    "    if u_opt < u_min:\n",
    "        u_opt = u_min\n",
    "    elif u_opt > u_max:\n",
    "        u_opt = u_max\n",
    "    return u_opt\n",
    "\n",
    "def u_sol(x, lbd):\n",
    "    u_opt = -lbd[1]*x[1]/(2*Wu)\n",
    "    if u_opt < u_min:\n",
    "        u_opt = DM(u_min)\n",
    "    elif u_opt > u_max:\n",
    "        u_opt = DM(u_max)\n",
    "    return u_opt"
   ]
  },
  {
   "cell_type": "code",
   "execution_count": 23,
   "metadata": {},
   "outputs": [],
   "source": [
    "import os, sys\n",
    "sys.path.append(os.path.join(os.getcwd(), os.pardir))\n",
    "from Callbacks.Singleshoot import Singleshoot_CB\n",
    "\n",
    "# lbd0 = np.random.uniform(0, N_pop*4, 2)\n",
    "# x0 = np.random.uniform(0, N_pop*4, 2)\n",
    "\n",
    "# Sk = np.concatenate([x0, lbd0])\n",
    "Sk = DM([N_pop - I0, I0,0, 1, 2,3])\n",
    "w0 = repmat(Sk, N)\n",
    "tol = 1e-3\n",
    "cond = tol + 1\n",
    "U = []\n",
    "\n",
    "\n",
    "for k in range(N):\n",
    "    U.append(u_sol(Sk[:nx], Sk[nx:]))\n",
    "    Sk = s_dot(Sk, U[-1])\n",
    "tol = 1e-3\n",
    "wk = w0\n",
    "U = vertcat(*U)\n",
    "wk_sols = [w0]\n",
    "err = tol + 1\n",
    "errs = [err]\n",
    "while err > tol:\n",
    "    fk = f_r(wk, U)\n",
    "    wk = wk - la.inv(grad_r(wk, U)) @ fk\n",
    "    err = norm_1(fk)\n",
    "    errs.append(err)\n",
    "    wk_sols.append(wk)\n",
    "# w_sol = G(w0, vertcat(*U))"
   ]
  },
  {
   "cell_type": "code",
   "execution_count": 22,
   "metadata": {},
   "outputs": [
    {
     "data": {
      "text/plain": [
       "50"
      ]
     },
     "execution_count": 22,
     "metadata": {},
     "output_type": "execute_result"
    }
   ],
   "source": []
  },
  {
   "cell_type": "code",
   "execution_count": 24,
   "metadata": {
    "pycharm": {
     "name": "#%%\n"
    }
   },
   "outputs": [],
   "source": [
    "x_sols = [[w_sol[0::nx*2],w_sol[1::nx*2],w_sol[2::nx*2]] for w_sol in wk_sols]\n",
    "lbd_sols = [[w_sol[3::nx*2],w_sol[4::nx*2],w_sol[5::nx*2]] for w_sol in wk_sols]\n"
   ]
  },
  {
   "cell_type": "code",
   "execution_count": 35,
   "metadata": {},
   "outputs": [
    {
     "data": {
      "text/plain": [
       "Text(0.5, 1.0, '$\\\\lambda$-Multipliers')"
      ]
     },
     "execution_count": 35,
     "metadata": {},
     "output_type": "execute_result"
    },
    {
     "data": {
      "image/png": "[encoded data removed]",
      "text/plain": [
       "<Figure size 432x288 with 4 Axes>"
      ]
     },
     "metadata": {
      "needs_background": "light"
     },
     "output_type": "display_data"
    },
    {
     "data": {
      "image/png": "[encoded data removed]",
      "text/plain": [
       "<Figure size 432x288 with 3 Axes>"
      ]
     },
     "metadata": {
      "needs_background": "light"
     },
     "output_type": "display_data"
    }
   ],
   "source": [
    "\n",
    "tgrid = np.arange(0,T, h)\n",
    "import matplotlib.pyplot as plt\n",
    "from matplotlib import cm\n",
    "colormap = cm.get_cmap('Greys', len(x_sols))\n",
    "colors = colormap(np.linspace(.1, .8, len(x_sols)))\n",
    "\n",
    "fig1, ax1 = plt.subplots(4)\n",
    "fig2, ax2 = plt.subplots(3)\n",
    "for x_sol, lbd_sol, color in zip(x_sols, lbd_sols, colors):\n",
    "    ax1[0].plot(tgrid, x_sol[0], color=color)\n",
    "    ax1[1].plot(tgrid, x_sol[1], color = color)\n",
    "    ax1[2].plot(tgrid, x_sol[2], color = color)\n",
    "    ax1[3].step(tgrid, U, color='k')\n",
    "\n",
    "    ax2[0].plot(tgrid, lbd_sol[0], color=color)\n",
    "    ax2[1].plot(tgrid, lbd_sol[1], color = color)\n",
    "    ax2[2].plot(tgrid, lbd_sol[2], color = color)\n",
    "\n",
    "_ = [x.grid() for x in np.concatenate([ax1, ax2])]\n",
    "ax1[0].set_title('RK4 Multiple-Shooting N = %i, ' %N+ \"M = %i\" %M+ \", iterations = %i\" %len(x_sols))\n",
    "\n",
    "_ = [x.set_ylabel(l) for l, x in zip(['S', 'I', 'R', 'u'], ax1)]\n",
    "_ = [x.set_ylabel(l) for l, x in zip([r'$\\lambda_0$',r'$\\lambda_1$',r'$\\lambda_2$'], ax2)]\n",
    "_ = ax1[-1].set_xlabel('time[days]')\n",
    "_ = ax2[-1].set_xlabel('time[days]')\n",
    "ax2[0].set_title('$\\lambda$-Multipliers')\n",
    "\n"
   ]
  },
  {
   "cell_type": "code",
   "execution_count": 1,
   "metadata": {},
   "outputs": [
    {
     "ename": "NameError",
     "evalue": "name 'fig' is not defined",
     "output_type": "error",
     "traceback": [
      "\u001b[1;31m---------------------------------------------------------------------------\u001b[0m",
      "\u001b[1;31mNameError\u001b[0m                                 Traceback (most recent call last)",
      "\u001b[1;32m<ipython-input-1-b1bbcf6ce6e3>\u001b[0m in \u001b[0;36m<module>\u001b[1;34m\u001b[0m\n\u001b[1;32m----> 1\u001b[1;33m \u001b[0mfig\u001b[0m\u001b[1;33m.\u001b[0m\u001b[0msavefig\u001b[0m\u001b[1;33m(\u001b[0m\u001b[1;34m'../Figures/PMP_traj_'\u001b[0m \u001b[1;33m+\u001b[0m \u001b[0msim_name\u001b[0m \u001b[1;33m+\u001b[0m \u001b[1;34m'.eps'\u001b[0m\u001b[1;33m,\u001b[0m \u001b[0mformat\u001b[0m\u001b[1;33m=\u001b[0m\u001b[1;34m'eps'\u001b[0m\u001b[1;33m)\u001b[0m\u001b[1;33m\u001b[0m\u001b[1;33m\u001b[0m\u001b[0m\n\u001b[0m",
      "\u001b[1;31mNameError\u001b[0m: name 'fig' is not defined"
     ]
    }
   ],
   "source": [
    "fig.savefig('../Figures/PMP_traj_' + sim_name + '.eps', format='eps')\n",
    "fig.savefig('../Figures/PMP_cons_' + sim_name + '.eps', format='eps')"
   ]
  }
 ],
 "metadata": {
  "kernelspec": {
   "display_name": "Python 3",
   "language": "python",
   "name": "python3"
  },
  "language_info": {
   "codemirror_mode": {
    "name": "ipython",
    "version": 3
   },
   "file_extension": ".py",
   "mimetype": "text/x-python",
   "name": "python",
   "nbconvert_exporter": "python",
   "pygments_lexer": "ipython3",
   "version": "3.9.1"
  }
 },
 "nbformat": 4,
 "nbformat_minor": 4
}
