{
 "cells": [
  {
   "cell_type": "code",
   "execution_count": 1,
   "id": "laughing-saskatchewan",
   "metadata": {},
   "outputs": [],
   "source": [
    "from casadi import *\n",
    "from tqdm import tqdm\n",
    "import sys\n",
    "sys.path.append(r\"C:/Users/Jonas/OneDrive - NTNU/Kybernetikk og Robotikk/Numerical Optimal Control/pythonProject/\")\n",
    "\n",
    "import numpy as np\n",
    "from RK4.Integrator import RK4_Integrator\n",
    "from numpy import matmul as mul\n",
    "import numpy.linalg as la\n",
    "import matplotlib.pyplot as plt\n",
    "\n",
    "nu = 1\n",
    "nx = 3\n",
    "NX = 10\n",
    "NU = 5\n",
    "NU_step = nx*NX/NU+1\n",
    "N_repeat_U = int(NX/NU)\n",
    "nw = nu*NU + nx*NX\n",
    "M = 1000\n",
    "t_end = 20\n",
    "N = 10\n",
    "tgrid = np.linspace(0,t_end, N)\n",
    "DT = np.diff(tgrid)[0]/M\n",
    "U = MX.sym('U', NU)\n",
    "U_dupe = vertcat(*[repmat(U[i], N_repeat_U, 1) for i in range(U.shape[0])])\n",
    "u_min = 1e-6\n",
    "u_max = 10\n",
    "alpha = 0.1\n",
    "\n",
    "\n",
    "def SIR(x,R0):\n",
    "    S = x[0]\n",
    "    I = x[1]\n",
    "    R = x[2]\n",
    "    beta = R0*alpha\n",
    "\n",
    "    S_dot = -beta * S * I\n",
    "    I_dot = beta * S * I - alpha * I\n",
    "    R_dot = alpha * I\n",
    "    return vertcat(S_dot, I_dot, R_dot)\n",
    "\n",
    "\n",
    "Wu = 0.01\n",
    "x = MX.sym('x', 1,nx)\n",
    "u = MX.sym('u', 1)\n",
    "F = Function('F', [x,u], [SIR(x,u), x[1]**2 + Wu/(u**2)])\n",
    "\n",
    "Q = MX.sym('Q',1)\n",
    "x0 = MX.sym('x0', 3,1)\n",
    "xk = x0\n",
    "u = MX.sym('u', 1)\n",
    "for j in range(M):\n",
    "    k1, k1_q = F(xk, u)\n",
    "    k2, k2_q = F(xk + DT / 2 * k1, u)\n",
    "    k3, k3_q = F(xk + DT / 2 * k2, u)\n",
    "    k4, k4_q = F(xk + DT * k3, u)\n",
    "    X = xk + DT / 6 * (k1 + 2 * k2 + 2 * k3 + k4)\n",
    "    Q = Q + DT / 6 * (k1_q + 2 * k2_q + 2 * k3_q + k4_q)\n",
    "\n",
    "F = Function('fx', [x0, u], [X, Q])\n",
    "h = []\n",
    "J = 0\n",
    "N_pop = 10000\n",
    "I0 = 1000\n",
    "x0 = [N_pop-I0,I0,0]\n",
    "Xk = x0\n",
    "inc = 0\n",
    "X_plot = []\n",
    "for i in range(N):\n",
    "    if i % (N/10) == 0:\n",
    "        Uk = U_dupe[inc]\n",
    "        inc+=1\n",
    "    Xk, Qk = F(Xk, Uk)\n",
    "    X_plot.append(Xk)\n",
    "    J+= Qk\n",
    "\n",
    "X_plot = horzcat(*X_plot)\n",
    "\n",
    "h = vertcat(u_min - U, U - u_max)\n",
    "Nh = h.shape[0]\n",
    "grad_Phi = jacobian(J, U)\n",
    "\n",
    "s = MX.sym('s', Nh)\n",
    "mu = MX.sym('mu', Nh)\n",
    "tau = MX.sym('tau')\n",
    "\n",
    "w = vertcat(U,mu,s)\n",
    "\n",
    "grad_lag = grad_Phi.T + jacobian(h, U).T @ mu\n",
    "\n",
    "r = vertcat(grad_lag, h + s, mu*s - tau)\n",
    "\n",
    "Fr = Function('r',[w, tau], [r])\n",
    "jac_Fr = Function('jac_Fr', [w, tau], [jacobian(r, w)])\n",
    "tol_lim = 1e-3\n",
    "tau = 1\n"
   ]
  },
  {
   "cell_type": "code",
   "execution_count": 2,
   "id": "trained-karen",
   "metadata": {},
   "outputs": [],
   "source": [
    "U0 = [np.sin(np.linspace(1,6, 5))]\n",
    "U0 = np.array([[-1000]*5])\n",
    "mu0 = np.full((1,Nh), 0.5)\n",
    "s0 = np.full((1,Nh), 1/mu0[0])\n",
    "w0 = np.concatenate([U0, mu0, s0], axis=1).T\n",
    "\n",
    "u_plot = Function('u_plot', [w], [U])\n",
    "x_plot = Function('X_plot', [w], [X_plot])"
   ]
  },
  {
   "cell_type": "code",
   "execution_count": 3,
   "id": "russian-reply",
   "metadata": {},
   "outputs": [],
   "source": [
    "%matplotlib inline\n",
    "G = rootfinder('root_r', 'newton', Fr)\n",
    "separate_vars = Function('Fs', [w], [U, mu, s])"
   ]
  },
  {
   "cell_type": "code",
   "execution_count": 4,
   "id": "demonstrated-costs",
   "metadata": {},
   "outputs": [
    {
     "name": "stderr",
     "output_type": "stream",
     "text": [
      "  0%|                                                                                           | 0/50 [00:00<?, ?it/s]"
     ]
    },
    {
     "name": "stdout",
     "output_type": "stream",
     "text": [
      "Completed\n"
     ]
    },
    {
     "name": "stderr",
     "output_type": "stream",
     "text": [
      "\n"
     ]
    }
   ],
   "source": [
    "tau_tol = 1e-5\n",
    "wk = w0\n",
    "tau_list = []\n",
    "\n",
    "tol = 1e-4\n",
    "\n",
    "tau = 1\n",
    "gamma = 0.9\n",
    "max_iter = 50\n",
    "pbar = tqdm(total=max_iter)\n",
    "w_list = [wk]\n",
    "iter = 0\n",
    "while (la.norm(Fr(wk, tau).full(), 2) > tol) and (iter < max_iter):\n",
    "    try: \n",
    "        wk = G(wk, tau)\n",
    "        tau_list.append(tau)\n",
    "        tau *= gamma\n",
    "        pbar.update(1)\n",
    "        w_list.append(wk)\n",
    "        iter+=1\n",
    "\n",
    "    except:\n",
    "        wk = w_list[-1]\n",
    "        \n",
    "        tau = (tau_list[-1]-tau)/2 + tau\n",
    "        print(\"Newton iteration failed, adjusting tau: \" + str(tau))\n",
    "print(\"Completed\")\n",
    "pbar.close()\n",
    "\n"
   ]
  },
  {
   "cell_type": "code",
   "execution_count": 5,
   "id": "decent-compromise",
   "metadata": {
    "scrolled": true
   },
   "outputs": [
    {
     "data": {
      "image/png": "[encoded data removed]",
      "text/plain": [
       "<Figure size 432x288 with 2 Axes>"
      ]
     },
     "metadata": {
      "needs_background": "light"
     },
     "output_type": "display_data"
    }
   ],
   "source": [
    "from matplotlib import cm\n",
    "colormap = cm.get_cmap('Greys', len(w_list))\n",
    "colors = colormap(np.linspace(.1, .8, len(w_list)))\n",
    "fig, ax = plt.subplots(2)\n",
    "for i, w in enumerate(w_list):\n",
    "    ax[0].plot(tgrid, x_plot(w).T, color=colors[i])\n",
    "    ax[1].plot(tgrid, np.repeat(w[:5], 2), color=colors[i])"
   ]
  },
  {
   "cell_type": "code",
   "execution_count": null,
   "id": "interesting-invention",
   "metadata": {},
   "outputs": [],
   "source": []
  }
 ],
 "metadata": {
  "kernelspec": {
   "display_name": "Python 3",
   "language": "python",
   "name": "python3"
  },
  "language_info": {
   "codemirror_mode": {
    "name": "ipython",
    "version": 3
   },
   "file_extension": ".py",
   "mimetype": "text/x-python",
   "name": "python",
   "nbconvert_exporter": "python",
   "pygments_lexer": "ipython3",
   "version": "3.9.1"
  }
 },
 "nbformat": 4,
 "nbformat_minor": 5
}
