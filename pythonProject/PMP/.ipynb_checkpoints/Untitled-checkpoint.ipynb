{
 "cells": [
  {
   "cell_type": "code",
   "execution_count": 1,
   "metadata": {},
   "outputs": [],
   "source": [
    "from casadi import *\n",
    "import matplotlib.pyplot as plt\n",
    "import numpy as np\n",
    "import numpy.linalg as la\n",
    "from tqdm import tqdm\n",
    "\n",
    "import matplotlib.pyplot as plt\n",
    "from mpl_toolkits.mplot3d import Axes3D\n"
   ]
  },
  {
   "cell_type": "code",
   "execution_count": 2,
   "metadata": {},
   "outputs": [],
   "source": [
    "T = 15. # Time horizon\n",
    "N = 100 # number of control intervals\n",
    "x = MX.sym('x', 3)\n",
    "u = MX.sym('u', 1)\n",
    "lbd = MX.sym('lbd', 3)\n",
    "N_pop = 5.3e6\n",
    "u_min = 0.5\n",
    "u_max = 6.5\n",
    "Wu_max = N_pop**2/(u_max-u_min)*1e15\n",
    "Wu_k = 2\n",
    "Wu_list = [Wu_k]\n",
    "while Wu_k < Wu_max:\n",
    "    Wu_k = Wu_k**2\n",
    "    Wu_list.append(Wu_k)\n",
    "alpha = 0.2\n",
    "beta = u*alpha\n",
    "I0 = 2000\n",
    "x0 = [N_pop - I0, I0, 0]"
   ]
  },
  {
   "cell_type": "code",
   "execution_count": null,
   "metadata": {},
   "outputs": [],
   "source": []
  },
  {
   "cell_type": "code",
   "execution_count": 3,
   "metadata": {},
   "outputs": [],
   "source": [
    "xdot = vertcat(-u*x[0]*x[1]/N_pop, u*x[0]*x[1]/N_pop - alpha*x[1], alpha*x[1])\n",
    "lbd_dot = vertcat(0 - lbd[0]*u*x[1]/N_pop - lbd[1]*u*x[0]/N_pop, 2*x[1] + lbd[0]*u*x[1]/N_pop + lbd[1]*u*x[0]/N_pop, lbd[2]*alpha)\n",
    "w = vertcat(x, lbd)\n",
    "wdot = vertcat(xdot, lbd_dot)\n",
    "F = Function('F', [w, u], [wdot])\n",
    "Fx = Function('Fx', [x, u], [xdot])"
   ]
  },
  {
   "cell_type": "code",
   "execution_count": 4,
   "metadata": {},
   "outputs": [],
   "source": [
    "def RK4_Integrator(f, X, U, DT):\n",
    "       k1 = f(X, U)\n",
    "       k2 = f(X + DT/2 * k1, U)\n",
    "       k3 = f(X + DT/2 * k2, U)\n",
    "       k4 = f(X + DT * k3, U)\n",
    "       X=X+DT/6*(k1 +2*k2 +2*k3 +k4)\n",
    "       return X"
   ]
  },
  {
   "cell_type": "code",
   "execution_count": 5,
   "metadata": {},
   "outputs": [],
   "source": [
    "\n",
    "x0 = [N_pop-I0, I0, 0]\n",
    "M = 50\n",
    "t = np.linspace(0,T,N)\n",
    "dt = np.diff(t)[0]/M\n",
    "wk = w\n",
    "x_plot = [x0]\n",
    "for i in range(M):\n",
    "    wk = RK4_Integrator(F, wk, u, dt)\n",
    "    x_plot.append(wk[:3])\n",
    "\n",
    "x_end = wk[:3]\n",
    "lbd_end = wk[3:]\n",
    "f_lbd = Function('f_lbd', [x, lbd, u], [lbd_end])\n",
    "f = Function('f', [w, u], [wk])\n",
    "\n",
    "lbd_k = lbd\n",
    "xk = x0\n",
    "U = MX.sym('U', len(t))\n",
    "Wu = Wu_max"
   ]
  },
  {
   "cell_type": "code",
   "execution_count": 6,
   "metadata": {},
   "outputs": [],
   "source": [
    "def argmin_H_u(x, lbd):\n",
    "    return 1/(2*Wu)*(lbd[1]-lbd[0])*x[0]*x[1]/N_pop\n",
    "def Hamiltonian(x, lbd, u):\n",
    "    return x[1]**2 - Wu*u**2 + (lbd[1]-lbd[0])*x[0]*x[1]*u/N_pop + (lbd[2]-lbd[1])*alpha*x[1]"
   ]
  },
  {
   "cell_type": "code",
   "execution_count": 7,
   "metadata": {},
   "outputs": [
    {
     "ename": "NameError",
     "evalue": "name 'r' is not defined",
     "output_type": "error",
     "traceback": [
      "\u001b[1;31m---------------------------------------------------------------------------\u001b[0m",
      "\u001b[1;31mNameError\u001b[0m                                 Traceback (most recent call last)",
      "\u001b[1;32m<ipython-input-7-d17ca1acc36c>\u001b[0m in \u001b[0;36m<module>\u001b[1;34m\u001b[0m\n\u001b[1;32m----> 1\u001b[1;33m \u001b[0mr\u001b[0m\u001b[1;33m\u001b[0m\u001b[1;33m\u001b[0m\u001b[0m\n\u001b[0m",
      "\u001b[1;31mNameError\u001b[0m: name 'r' is not defined"
     ]
    }
   ],
   "source": []
  },
  {
   "cell_type": "code",
   "execution_count": null,
   "metadata": {},
   "outputs": [],
   "source": [
    "xk = x0\n",
    "lbd_k = [0.5,0.2,0.3]\n",
    "u_sols = []\n",
    "Wu_list = np.logspace(0,np.log2(Wu_max),15, base=2)\n",
    "#Wu_list = np.linspace(0,Wu_max,15)\n",
    "\n",
    "x_sols = []\n",
    "lbd_sols = []\n",
    "for Wu in tqdm(Wu_list):\n",
    "    def Hamiltonian(x, lbd, u):\n",
    "        return x[1]**2 - Wu*u**2 + (lbd[1]-lbd[0])*x[0]*x[1]*u/N_pop + (lbd[2]-lbd[1])*alpha*x[1]\n",
    "    u_list = []\n",
    "    x_list = []\n",
    "    lbd_list = []\n",
    "    wk = vertcat(DM(xk), DM(lbd_k))\n",
    "    xk = x0\n",
    "    lbd_k = [0.1,0.2,0.3]\n",
    "    for i in range(len(t)):\n",
    "        S = wk[0]\n",
    "        I = wk[1]\n",
    "        lbd = wk[3:]\n",
    "        #uk = 1/(2*Wu)*(lbd_k[1]-lbd_k[0])*S*I/N_pop\n",
    "        H1 = Hamiltonian(xk, lbd_k, u_min)\n",
    "        H2 = Hamiltonian(xk, lbd_k, u_max)\n",
    "        print(H1, H2)\n",
    "        if H1 < H2:\n",
    "            uk = u_min\n",
    "        else:\n",
    "            uk = u_max\n",
    "            \n",
    "        lbd_k = f_lbd(xk, lbd_k, uk)\n",
    "        wk = f(wk, uk)\n",
    "        u_list.append(uk)\n",
    "        x_list.append(wk[:3].full())\n",
    "        lbd_list.append(wk[3:].full())\n",
    "    u_sols.append(u_list)\n",
    "    x_sols.append(x_list)\n",
    "    lbd_sols.append(lbd_list)"
   ]
  },
  {
   "cell_type": "code",
   "execution_count": null,
   "metadata": {},
   "outputs": [],
   "source": [
    "x_sols = [np.array(sol) for sol in x_sols]"
   ]
  },
  {
   "cell_type": "code",
   "execution_count": null,
   "metadata": {},
   "outputs": [],
   "source": [
    "x_sols[0].shape\n",
    "tgrid = np.linspace(0,T, N)"
   ]
  },
  {
   "cell_type": "code",
   "execution_count": null,
   "metadata": {},
   "outputs": [],
   "source": [
    "from matplotlib import cm\n",
    "from matplotlib.ticker import FormatStrFormatter\n",
    "\n",
    "colormap = cm.get_cmap('Greys', len(x_sols))\n",
    "colors = colormap(np.linspace(.1, .8, len(x_sols)))\n",
    "\n",
    "fig2, ax2 = plt.subplots(4)\n",
    "marker = ''\n",
    "for i, (u_sol, x_sol, lbd_sol, color) in enumerate(zip(u_sols, x_sols, lbd_sols, colors)):\n",
    "    if i == (len(x_sols)-1):\n",
    "        marker = ''\n",
    "    ax2[0].plot(tgrid, x_sol[:,0], color=color, marker=marker,markersize=2.5)\n",
    "    ax2[1].plot(tgrid, x_sol[:,1], color=color, marker=marker,markersize=2.5)\n",
    "    ax2[2].plot(tgrid, x_sol[:,2], color=color, marker=marker,markersize=2.5)\n",
    "    ax2[3].step(tgrid, u_sol, color=color, marker=marker,markersize=2.5)\n",
    "_ = [x.grid() for x in ax2]\n",
    "_ = [x.set_xticklabels([]) for x in ax2[:-1]]\n",
    "\n",
    "_ = [x.ticklabel_format(axis=\"y\", style=\"sci\", scilimits=(0,0)) for x in ax2[:-1]]\n",
    "_ = [x.set_ylabel(s) for x, s in zip(ax2, ['Susceptible', 'Infected', 'Recovered', 'R0'])]\n",
    "ax2[-1].set_xlabel('t[days]')\n",
    "fig2.subplots_adjust(hspace=.5)"
   ]
  },
  {
   "cell_type": "code",
   "execution_count": null,
   "metadata": {},
   "outputs": [],
   "source": [
    "lbd_k"
   ]
  }
 ],
 "metadata": {
  "kernelspec": {
   "display_name": "Python 3",
   "language": "python",
   "name": "python3"
  },
  "language_info": {
   "codemirror_mode": {
    "name": "ipython",
    "version": 3
   },
   "file_extension": ".py",
   "mimetype": "text/x-python",
   "name": "python",
   "nbconvert_exporter": "python",
   "pygments_lexer": "ipython3",
   "version": "3.9.1"
  }
 },
 "nbformat": 4,
 "nbformat_minor": 4
}
