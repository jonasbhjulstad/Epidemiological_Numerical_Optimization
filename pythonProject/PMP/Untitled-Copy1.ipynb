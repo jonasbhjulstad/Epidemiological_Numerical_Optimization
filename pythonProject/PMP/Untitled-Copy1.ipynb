{
 "cells": [
  {
   "cell_type": "code",
   "execution_count": 1,
   "metadata": {},
   "outputs": [
    {
     "ename": "ModuleNotFoundError",
     "evalue": "No module named 'casadi'",
     "output_type": "error",
     "traceback": [
      "\u001b[1;31m---------------------------------------------------------------------------\u001b[0m",
      "\u001b[1;31mModuleNotFoundError\u001b[0m                       Traceback (most recent call last)",
      "\u001b[1;32m<ipython-input-1-e0fb52370556>\u001b[0m in \u001b[0;36m<module>\u001b[1;34m\u001b[0m\n\u001b[1;32m----> 1\u001b[1;33m \u001b[1;32mfrom\u001b[0m \u001b[0mcasadi\u001b[0m \u001b[1;32mimport\u001b[0m \u001b[1;33m*\u001b[0m\u001b[1;33m\u001b[0m\u001b[1;33m\u001b[0m\u001b[0m\n\u001b[0m\u001b[0;32m      2\u001b[0m \u001b[1;32mimport\u001b[0m \u001b[0mmatplotlib\u001b[0m\u001b[1;33m.\u001b[0m\u001b[0mpyplot\u001b[0m \u001b[1;32mas\u001b[0m \u001b[0mplt\u001b[0m\u001b[1;33m\u001b[0m\u001b[1;33m\u001b[0m\u001b[0m\n\u001b[0;32m      3\u001b[0m \u001b[1;32mimport\u001b[0m \u001b[0mnumpy\u001b[0m \u001b[1;32mas\u001b[0m \u001b[0mnp\u001b[0m\u001b[1;33m\u001b[0m\u001b[1;33m\u001b[0m\u001b[0m\n\u001b[0;32m      4\u001b[0m \u001b[1;32mimport\u001b[0m \u001b[0mnumpy\u001b[0m\u001b[1;33m.\u001b[0m\u001b[0mlinalg\u001b[0m \u001b[1;32mas\u001b[0m \u001b[0mla\u001b[0m\u001b[1;33m\u001b[0m\u001b[1;33m\u001b[0m\u001b[0m\n\u001b[0;32m      5\u001b[0m \u001b[1;32mfrom\u001b[0m \u001b[0mtqdm\u001b[0m \u001b[1;32mimport\u001b[0m \u001b[0mtqdm\u001b[0m\u001b[1;33m\u001b[0m\u001b[1;33m\u001b[0m\u001b[0m\n",
      "\u001b[1;31mModuleNotFoundError\u001b[0m: No module named 'casadi'"
     ]
    }
   ],
   "source": [
    "from casadi import *\n",
    "import matplotlib.pyplot as plt\n",
    "import numpy as np\n",
    "import numpy.linalg as la\n",
    "from tqdm import tqdm\n",
    "\n",
    "import matplotlib.pyplot as plt\n",
    "from mpl_toolkits.mplot3d import Axes3D\n",
    "from Parameters.Parameters_Vaccination_Flat import *\n",
    "\n",
    "\n"
   ]
  },
  {
   "cell_type": "code",
   "execution_count": null,
   "metadata": {},
   "outputs": [],
   "source": [
    "xdot = vertcat(-u*x[0]*x[1]/N_pop, u*x[0]*x[1]/N_pop - alpha*x[1])\n",
    "hamiltonian = x[1]**2 - Wu*u**2 + (lbd[1]-lbd[0])*x[0]*x[1]*u/N_pop + (-lbd[1])*alpha*x[1]\n",
    "s = vertcat(x, lbd)\n",
    "F = Function('F', [s, u], [vertcat(xdot, -jacobian(hamiltonian, x).T)])\n",
    "jacobian(hamiltonian, x).shape"
   ]
  },
  {
   "cell_type": "code",
   "execution_count": null,
   "metadata": {},
   "outputs": [],
   "source": [
    "def RK4_Integrator(f, X, U, DT):\n",
    "       k1 = f(X, U)\n",
    "       print(k1)\n",
    "       k2 = f(X + DT/2 * k1, U)\n",
    "       k3 = f(X + DT/2 * k2, U)\n",
    "       k4 = f(X + DT * k3, U)\n",
    "       X=X+DT/6*(k1 +2*k2 +2*k3 +k4)\n",
    "       return X"
   ]
  },
  {
   "cell_type": "code",
   "execution_count": null,
   "metadata": {},
   "outputs": [],
   "source": [
    "\n",
    "x0 = [N_pop-I0, I0, 0]\n",
    "M = 50\n",
    "t = np.linspace(0,T,N)\n",
    "dt = np.diff(t)[0]/M\n",
    "\n",
    "x0 = MX.sym('x0', nx)\n",
    "lbd0 = MX.sym('lbd0', nx)\n",
    "s0 = vertcat(x0, lbd0)\n",
    "sk = s0\n",
    "s_plot = [s0]\n",
    "lbd_plot = [lbd0]\n",
    "x_plot = [x0]\n",
    "for i in range(M):\n",
    "    sk = RK4_Integrator(F, sk, u, dt)\n",
    "    lbd_plot.append(sk[0:nx])\n",
    "    x_plot.append(sk[2:])\n",
    "\n",
    "s_dot = Function('s_dot', [s0, u], [sk])\n",
    "f = Function('f_lbd', [x0, lbd0, u], [sk[nx:], sk[nx:]])\n",
    "\n"
   ]
  },
  {
   "cell_type": "code",
   "execution_count": null,
   "metadata": {},
   "outputs": [],
   "source": [
    "f.sparsity_out(0)"
   ]
  },
  {
   "cell_type": "code",
   "execution_count": null,
   "metadata": {},
   "outputs": [],
   "source": []
  },
  {
   "cell_type": "code",
   "execution_count": null,
   "metadata": {},
   "outputs": [],
   "source": [
    "# \"Lift\" initial conditions\n",
    "X0 = MX.sym('x0', nx)\n",
    "lbd_0 = MX.sym('lbd_0', nx)\n",
    "Sk = vertcat(X0, lbd_0)\n",
    "x0 = [N_pop-I0, I0]\n",
    "w = [Sk]\n",
    "lbw = [x0]\n",
    "ubw = [x0]\n",
    "w0 = [x0]\n",
    "x_min = [0]*nx\n",
    "x_max = [N_pop]*nx\n",
    "lbd_min = [0]*nx\n",
    "lbd_max = [100]*nx\n",
    "s_min = x_min + lbd_min\n",
    "s_max = x_max + lbd_max\n",
    "Q = []\n",
    "g = [X0 - x0]\n",
    "lbg = [0]*nx\n",
    "ubg = [0]*nx\n",
    "U = []\n",
    "lbu = []\n",
    "ubu = []\n",
    "U0 = []\n",
    "u_min = 0.5\n",
    "u_max = 6.5\n",
    "u0 = u_max\n",
    "traj_initial = True\n",
    "# Formulate the NLP\n",
    "for k in range(N):\n",
    "    # New NLP variable for the control\n",
    "    Uk = MX.sym('U_' + str(k))\n",
    "    U   += [Uk]\n",
    "    lbu += [u_min]\n",
    "    ubu += [u_max]\n",
    "    U0  += [u0]\n",
    "\n",
    "    # Integrate till the end of the interval\n",
    "    Sk_end = F(Sk, Uk)\n",
    "    \n",
    "    # New NLP variable for state at end of interval\n",
    "    if k < (N):\n",
    "        Sk = MX.sym('S_' + str(k+1), 2*nx)\n",
    "        w   += [Sk]\n",
    "        lbw += s_min\n",
    "        ubw += s_max\n",
    "    # Add equality constraint\n",
    "        g   += [Sk_end-Sk]\n",
    "        lbg += [0]*2*nx\n",
    "        ubg += [0]*2*nx\n",
    "\n",
    "\n",
    "g+= [Sk[nx:]]\n",
    "g = vertcat(*g)\n",
    "w = vertcat(*w)\n",
    "U = vertcat(*U)\n"
   ]
  },
  {
   "cell_type": "code",
   "execution_count": null,
   "metadata": {},
   "outputs": [],
   "source": []
  },
  {
   "cell_type": "code",
   "execution_count": null,
   "metadata": {},
   "outputs": [],
   "source": [
    "from scipy.optimize import fsolve\n",
    "uk = np.random.uniform(u_min, u_max, N)\n",
    "f_r = Function('f_r', [w, U], [g])\n",
    "grad_r = Function('grad_r', [w, U], [jacobian(f_r(w, U), w)])\n",
    "newton_iter = Function('new_i', [w, U], [w - solve(grad_r(w, U), f_r(w, U))])\n",
    "G = rootfinder('G', 'kinsol', f_r)\n",
    "\n",
    "G(np.random.uniform(0, 1000, w.shape[0]), np.random.uniform(u_min, u_max, U.shape))\n",
    "#G(np.random.uniform(u_min, u_max, w.shape), np.ones(U.shape))\n"
   ]
  },
  {
   "cell_type": "code",
   "execution_count": null,
   "metadata": {},
   "outputs": [],
   "source": [
    "def Hamiltonian(x, lbd, u):\n",
    "    return x[1]**2 - Wu*u**2 + (lbd[1]-lbd[0])*x[0]*x[1]*u/N_pop + (lbd[1])*alpha*x[1]"
   ]
  },
  {
   "cell_type": "code",
   "execution_count": null,
   "metadata": {},
   "outputs": [],
   "source": [
    "import os, sys\n",
    "sys.path.append(os.path.join(os.getcwd(), os.pardir))\n",
    "from Callbacks.Singleshoot import Singleshoot_CB\n",
    "\n",
    "lbd0 = [1000,1000]\n",
    "x0 = [N_pop-I0, I0]\n",
    "lbd_k = lbd0\n",
    "tol = 1e-4\n",
    "rk = DM([tol+1])\n",
    "\n",
    "X0 = MX.sym('x0', nx)\n",
    "lbd_0 = MX.sym('lbd_0', nx)\n",
    "S_sym_k = vertcat(X0, lbd_0)\n",
    "w = [S_sym_k]\n",
    "g = [X0-x0]\n",
    "g.append(lbd_0 - lbd0)\n",
    "lbw = [0]*2*nx\n",
    "ubw = [N_pop]*2*nx\n",
    "xk = x0\n",
    "lbd_k = lbd0\n",
    "lbd_f = [tol + 1]*nx\n",
    "#while la.norm(lbd_f,1) > tol:\n",
    "U = []\n",
    "\n",
    "tol = 1e-3\n",
    "cond = tol + 1\n",
    "while cond > tol:\n",
    "    Sk = []\n",
    "    Sk.append(xk)\n",
    "    Sk.append(lbd_k)\n",
    "    U = []\n",
    "    for k in range(N):\n",
    "        H1 = Hamiltonian(xk, lbd_k, u_min)\n",
    "        H2 = Hamiltonian(xk, lbd_k, u_max)\n",
    "        if H1 < H2:\n",
    "            uk = u_min\n",
    "        else:\n",
    "            uk = u_max\n",
    "        xk, lbd_k = f(xk,lbd_k,uk)\n",
    "        Sk.append(xk)\n",
    "        Sk.append(lbd_k)\n",
    "        U.append(uk)\n",
    "\n",
    "    Sk = vertcat(*Sk)\n",
    "    lbd_f = Sk[-nx:]\n",
    "    \n",
    "    Sk = G(Sk, U)\n",
    "    xk = Sk[:nx]\n",
    "    lbd_k = Sk[nx:2*nx]\n",
    "    cond = norm_1(lbd_f)\n",
    "    print(cond)\n",
    "    \n",
    "    \n",
    "        "
   ]
  },
  {
   "cell_type": "code",
   "execution_count": null,
   "metadata": {},
   "outputs": [],
   "source": [
    "Sk[56:]\n",
    "Sk[56-nx:56]\n",
    "f(Sk[56-2*nx:56-nx], Sk[56-nx:56], u_max)\n"
   ]
  },
  {
   "cell_type": "code",
   "execution_count": null,
   "metadata": {},
   "outputs": [],
   "source": [
    " # Integrate till the end of the interval\n",
    "    Sk_end = F(S_sym_k, uk)\n",
    "    \n",
    "    if k < (N):\n",
    "        S_sym_k = MX.sym('S_' + str(k+1), 2*nx)\n",
    "        w   += [S_sym_k]\n",
    "        lbw += s_min\n",
    "        ubw += s_max\n",
    "    # Add equality constraint\n",
    "        g   += [Sk_end-S_sym_k]\n",
    "\n",
    "\n",
    "g+= [S_sym_k[nx:]]\n",
    "g = vertcat(*g)\n",
    "w = vertcat(*w)\n",
    "con = g[:8]\n",
    "con_lb = [0]*con.shape[0]\n",
    "con_ub = [0]*con.shape[0]\n",
    "CB = Singleshoot_CB('Singleshoot_CB', w.shape[0], 0,1,1)   \n",
    "\n",
    "prob = {'f': norm_2(g), 'x': w, 'g': []}\n",
    "opts = {}\n",
    "opts['iteration_callback'] = CB\n",
    "solver = nlpsol('solver', 'sqpmethod', prob, opts)\n",
    "sol = solver(x0=vertcat(*Sk), lbx=lbw, ubx=ubw, lbg=[], ubg=[])\n"
   ]
  },
  {
   "cell_type": "code",
   "execution_count": null,
   "metadata": {},
   "outputs": [],
   "source": [
    "sol['x']"
   ]
  },
  {
   "cell_type": "code",
   "execution_count": null,
   "metadata": {},
   "outputs": [],
   "source": [
    "iter_step = 5\n",
    "x_sols = [[sol[0::4],sol[1::4]]  for sol in CB.x_sols[0::iter_step]]\n",
    "lbd_sols = [[sol[2::4],sol[3::4]]  for sol in CB.x_sols[0::iter_step]]\n",
    "x_sols.append([CB.x_sols[-1][0::4], CB.x_sols[-1][1::4]])\n",
    "lbd_sols.append([CB.x_sols[-1][2::4], CB.x_sols[-1][3::4]])\n",
    "\n",
    "\n",
    "import matplotlib.pyplot as plt\n",
    "from matplotlib import cm\n",
    "colormap = cm.get_cmap('Greys', len(x_sols))\n",
    "colors = colormap(np.linspace(.1, .8, len(x_sols)))\n",
    "\n",
    "fig1, ax1 = plt.subplots(2)\n",
    "for i, (x_sol, lbd_sol) in enumerate(zip(x_sols, lbd_sols)):\n",
    "    ax1[0].plot(t, x_sol[0][:-1], color = colors[i])\n"
   ]
  },
  {
   "cell_type": "code",
   "execution_count": null,
   "metadata": {},
   "outputs": [],
   "source": [
    "plt.plot(Sk)"
   ]
  }
 ],
 "metadata": {
  "kernelspec": {
   "display_name": "Python 3",
   "language": "python",
   "name": "python3"
  },
  "language_info": {
   "codemirror_mode": {
    "name": "ipython",
    "version": 3
   },
   "file_extension": ".py",
   "mimetype": "text/x-python",
   "name": "python",
   "nbconvert_exporter": "python",
   "pygments_lexer": "ipython3",
   "version": "3.9.1"
  }
 },
 "nbformat": 4,
 "nbformat_minor": 4
}
